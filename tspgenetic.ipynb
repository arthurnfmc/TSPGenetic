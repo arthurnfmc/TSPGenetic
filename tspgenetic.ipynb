{
  "nbformat": 4,
  "nbformat_minor": 0,
  "metadata": {
    "colab": {
      "provenance": [],
      "authorship_tag": "ABX9TyPm3Pc+CKlVT3J0dG1qRz5x"
    },
    "kernelspec": {
      "name": "python3",
      "display_name": "Python 3"
    },
    "language_info": {
      "name": "python"
    }
  },
  "cells": [
    {
      "cell_type": "code",
      "execution_count": 1,
      "metadata": {
        "id": "27xM1sv7EhQV",
        "colab": {
          "base_uri": "https://localhost:8080/"
        },
        "outputId": "24a3354b-2b95-4cce-bedc-1557d8d5adbd"
      },
      "outputs": [
        {
          "output_type": "stream",
          "name": "stdout",
          "text": [
            "Collecting deap\n",
            "  Downloading deap-1.4.2-cp311-cp311-manylinux_2_5_x86_64.manylinux1_x86_64.manylinux_2_17_x86_64.manylinux2014_x86_64.whl.metadata (13 kB)\n",
            "Requirement already satisfied: numpy in /usr/local/lib/python3.11/dist-packages (from deap) (1.26.4)\n",
            "Downloading deap-1.4.2-cp311-cp311-manylinux_2_5_x86_64.manylinux1_x86_64.manylinux_2_17_x86_64.manylinux2014_x86_64.whl (135 kB)\n",
            "\u001b[2K   \u001b[90m━━━━━━━━━━━━━━━━━━━━━━━━━━━━━━━━━━━━━━━━\u001b[0m \u001b[32m135.4/135.4 kB\u001b[0m \u001b[31m2.2 MB/s\u001b[0m eta \u001b[36m0:00:00\u001b[0m\n",
            "\u001b[?25hInstalling collected packages: deap\n",
            "Successfully installed deap-1.4.2\n"
          ]
        }
      ],
      "source": [
        "# @title Instalação do deap\n",
        "! pip install deap"
      ]
    },
    {
      "cell_type": "code",
      "source": [
        "# @title Download dos dados de entrada\n",
        "\n",
        "!wget http://comopt.ifi.uni-heidelberg.de/software/TSPLIB95/atsp/ft53.atsp.gz\n",
        "!gunzip ft53.atsp.gz\n",
        "\n",
        "!wget http://comopt.ifi.uni-heidelberg.de/software/TSPLIB95/atsp/rbg443.atsp.gz\n",
        "!gunzip rbg443.atsp.gz"
      ],
      "metadata": {
        "colab": {
          "base_uri": "https://localhost:8080/"
        },
        "id": "gjFMA9TGvZQW",
        "outputId": "7cc256c9-c618-4dd9-ed60-8390996e93aa"
      },
      "execution_count": 38,
      "outputs": [
        {
          "output_type": "stream",
          "name": "stdout",
          "text": [
            "--2025-03-06 14:41:24--  http://comopt.ifi.uni-heidelberg.de/software/TSPLIB95/atsp/ft53.atsp.gz\n",
            "Resolving comopt.ifi.uni-heidelberg.de (comopt.ifi.uni-heidelberg.de)... 129.206.106.221\n",
            "Connecting to comopt.ifi.uni-heidelberg.de (comopt.ifi.uni-heidelberg.de)|129.206.106.221|:80... connected.\n",
            "HTTP request sent, awaiting response... 200 OK\n",
            "Length: 6031 (5.9K) [application/octet-stream]\n",
            "Saving to: ‘ft53.atsp.gz’\n",
            "\n",
            "ft53.atsp.gz        100%[===================>]   5.89K  --.-KB/s    in 0s      \n",
            "\n",
            "2025-03-06 14:41:28 (79.6 MB/s) - ‘ft53.atsp.gz’ saved [6031/6031]\n",
            "\n",
            "gzip: ft53.atsp already exists; do you wish to overwrite (y or n)? ^C\n",
            "--2025-03-06 14:41:35--  http://comopt.ifi.uni-heidelberg.de/software/TSPLIB95/atsp/rbg443.atsp.gz\n",
            "Resolving comopt.ifi.uni-heidelberg.de (comopt.ifi.uni-heidelberg.de)... 129.206.106.221\n",
            "Connecting to comopt.ifi.uni-heidelberg.de (comopt.ifi.uni-heidelberg.de)|129.206.106.221|:80... connected.\n",
            "HTTP request sent, awaiting response... 200 OK\n",
            "Length: 103674 (101K) [application/octet-stream]\n",
            "Saving to: ‘rbg443.atsp.gz’\n",
            "\n",
            "rbg443.atsp.gz      100%[===================>] 101.24K   308KB/s    in 0.3s    \n",
            "\n",
            "2025-03-06 14:41:36 (308 KB/s) - ‘rbg443.atsp.gz’ saved [103674/103674]\n",
            "\n"
          ]
        }
      ]
    },
    {
      "cell_type": "code",
      "source": [
        "# @title Import de Bibliotecas\n",
        "\n",
        "import numpy as np\n",
        "import matplotlib.pyplot as plt\n",
        "import random\n",
        "from deap import base\n",
        "from deap import creator\n",
        "from deap import tools\n",
        "from deap import algorithms"
      ],
      "metadata": {
        "id": "9Yn8B9sYr7PU"
      },
      "execution_count": 49,
      "outputs": []
    },
    {
      "cell_type": "code",
      "source": [
        "# @title Função p/ leitura dos dados de entrada\n",
        "\n",
        "# Retorna uma tupla (distancias, ncidades)\n",
        "def read_data(fpath):\n",
        "  distances, n_cities = None, None\n",
        "\n",
        "  with open(fpath, \"r\") as f:\n",
        "      lines = f.readlines()\n",
        "      starting_i = 0\n",
        "      for line in lines:\n",
        "        starting_i +=1\n",
        "        if 'EDGE_WEIGHT_SECTION' in line:\n",
        "          break\n",
        "\n",
        "        if 'DIMENSION' in line:\n",
        "          n_cities = int(line.split()[-1])\n",
        "\n",
        "      distances = np.zeros((n_cities,n_cities), dtype=np.int64)\n",
        "      i, j = 0, 0\n",
        "      for line in lines[starting_i:]:\n",
        "        if 'EOF' in line or i >= n_cities:\n",
        "          break\n",
        "\n",
        "        for distance in line.split():\n",
        "          if i==j: # Tratando os dados para facilitar a implementação\n",
        "            distances[i][j] = 9999999 # Sair de i e ir para i é indesejável\n",
        "          else:\n",
        "            distances[i][j] = int(distance)\n",
        "          j += 1\n",
        "          if j >= n_cities:\n",
        "            j = 0\n",
        "            i += 1\n",
        "  return distances, n_cities"
      ],
      "metadata": {
        "id": "mMqjNJnJs81u"
      },
      "execution_count": 43,
      "outputs": []
    },
    {
      "cell_type": "code",
      "source": [
        "filepath = 'ft53.atsp' # @param {'type':'string'}\n",
        "distances, n_cities = read_data(filepath)\n",
        "\n",
        "print(f\"Arquivo {filepath} lido com sucesso!\")\n",
        "print(f\"Número de cidades: {n_cities}\")\n",
        "print(\"Matriz de distâncias:\")\n",
        "print(distances)\n"
      ],
      "metadata": {
        "colab": {
          "base_uri": "https://localhost:8080/"
        },
        "id": "B9Hg9Vrb2dXa",
        "outputId": "77029a16-8eb1-4c96-b630-8f3544db5b3d"
      },
      "execution_count": 45,
      "outputs": [
        {
          "output_type": "stream",
          "name": "stdout",
          "text": [
            "Arquivo ft53.atsp lido com sucesso!\n",
            "Número de cidades: 53\n",
            "Matriz de distâncias:\n",
            "[[9999999     223     210 ...     357     420     344]\n",
            " [     58 9999999     179 ...     300     214     314]\n",
            " [     60     109 9999999 ...     201     302     190]\n",
            " ...\n",
            " [   1504    1464    1629 ... 9999999     272     159]\n",
            " [   1505    1534    1545 ...     106 9999999     240]\n",
            " [   1520    1472    1612 ...      29     118 9999999]]\n"
          ]
        }
      ]
    },
    {
      "cell_type": "code",
      "source": [
        "# @title Minimização da FO\n",
        "\n",
        "# Problema de minimização\n",
        "creator.create(\"FitnessMin\", base.Fitness, weights=(-1.0,))\n",
        "\n",
        "# Indivíduo derivado de uma permutação\n",
        "creator.create(\"Individual\", list, fitness=creator.FitnessMin)"
      ],
      "metadata": {
        "colab": {
          "base_uri": "https://localhost:8080/"
        },
        "id": "srPebnuDr8Fr",
        "outputId": "e85f84f7-801b-4274-f2da-8739e723878d"
      },
      "execution_count": 46,
      "outputs": [
        {
          "output_type": "stream",
          "name": "stderr",
          "text": [
            "/usr/local/lib/python3.11/dist-packages/deap/creator.py:185: RuntimeWarning: A class named 'FitnessMin' has already been created and it will be overwritten. Consider deleting previous creation of that class or rename it.\n",
            "  warnings.warn(\"A class named '{0}' has already been created and it \"\n",
            "/usr/local/lib/python3.11/dist-packages/deap/creator.py:185: RuntimeWarning: A class named 'Individual' has already been created and it will be overwritten. Consider deleting previous creation of that class or rename it.\n",
            "  warnings.warn(\"A class named '{0}' has already been created and it \"\n"
          ]
        }
      ]
    },
    {
      "cell_type": "code",
      "source": [
        "# @title Criação da Toolbox + registros do indivíduo e população\n",
        "toolbox = base.Toolbox()\n",
        "toolbox.register(\"indices\", random.sample, range(n_cities), n_cities) # A solução é representada como um permutação\n",
        "toolbox.register(\"individual\", tools.initIterate, creator.Individual, toolbox.indices)\n",
        "toolbox.register(\"population\", tools.initRepeat, list, toolbox.individual) # População é uma lista de indivíduos"
      ],
      "metadata": {
        "id": "_JNuN4FOsYbd"
      },
      "execution_count": 47,
      "outputs": []
    },
    {
      "cell_type": "code",
      "source": [
        "# @title Função Objetivo\n",
        "\n",
        "def fitness(individual):\n",
        "  distance = 0 # Distância total viajada\n",
        "  for i in range(n_cities-1):\n",
        "    distance += distances[individual[i]][individual[i+1]]\n",
        "  distance += distances[individual[n_cities-1]][individual[0]] # Volta para a cidade original\n",
        "\n",
        "  return distance, # Como a solução é uma permutação, não há necessidade de preocupar-se com infrações das restrições"
      ],
      "metadata": {
        "id": "lZc9jWXJ8jVt"
      },
      "execution_count": 48,
      "outputs": []
    },
    {
      "cell_type": "code",
      "source": [
        "# @title Registro da FO + operadores (cruzamento, mutação e seleção)\n",
        "\n",
        "toolbox.register(\"evaluate\", fitness)\n",
        "toolbox.register(\"mate\", tools.cxOrdered)  # Crossover ordenado\n",
        "toolbox.register(\"mutate\", tools.mutShuffleIndexes, indpb=0.2)  # Mutação por troca de cidades\n",
        "toolbox.register(\"select\", tools.selTournament, tournsize=3)"
      ],
      "metadata": {
        "id": "2fxdAnBW-EyL"
      },
      "execution_count": 53,
      "outputs": []
    },
    {
      "cell_type": "code",
      "source": [
        "def main():\n",
        "  # SEED = 89\n",
        "  # random.seed(SEED)\n",
        "  pop = toolbox.population(n=100)  # População inicial\n",
        "  hof = tools.HallOfFame(1)  # Melhor solução encontrada\n",
        "  stats = tools.Statistics(lambda ind: ind.fitness.values)\n",
        "  stats.register(\"min\", np.min)\n",
        "  stats.register(\"avg\", np.mean)\n",
        "\n",
        "  # Evolução com algoritmo genético\n",
        "  algorithms.eaSimple(pop, toolbox, cxpb=0.7, mutpb=0.2, ngen=200, stats=stats, halloffame=hof, verbose=True)\n",
        "\n",
        "  print(\"\\nMelhor rota encontrada:\", hof[0])\n",
        "  print(\"Distância total:\", fitness(hof[0])[0])"
      ],
      "metadata": {
        "id": "rBbbPect-mGS"
      },
      "execution_count": 54,
      "outputs": []
    },
    {
      "cell_type": "code",
      "source": [
        "main()"
      ],
      "metadata": {
        "colab": {
          "base_uri": "https://localhost:8080/"
        },
        "id": "BnrzcZ7R-4yd",
        "outputId": "a7d1d68a-729e-4da7-fc0d-4d90233e2b0a"
      },
      "execution_count": 55,
      "outputs": [
        {
          "output_type": "stream",
          "name": "stdout",
          "text": [
            "gen\tnevals\tmin  \tavg    \n",
            "0  \t100   \t22732\t26086.2\n",
            "1  \t78    \t22358\t25434.8\n",
            "2  \t69    \t22761\t25027.8\n",
            "3  \t79    \t22680\t24897.2\n",
            "4  \t80    \t22206\t24717.7\n",
            "5  \t82    \t21910\t24517.7\n",
            "6  \t73    \t21467\t24017.8\n",
            "7  \t79    \t20779\t24031.8\n",
            "8  \t69    \t20779\t23618.7\n",
            "9  \t79    \t20292\t23146.3\n",
            "10 \t80    \t20292\t23042.8\n",
            "11 \t77    \t20292\t22643.4\n",
            "12 \t82    \t19717\t22422.7\n",
            "13 \t76    \t18531\t22145.7\n",
            "14 \t71    \t18918\t22037.6\n",
            "15 \t67    \t18918\t21821.1\n",
            "16 \t75    \t19470\t21522.5\n",
            "17 \t79    \t19470\t21389.3\n",
            "18 \t74    \t19364\t21547.8\n",
            "19 \t81    \t18506\t21416.9\n",
            "20 \t77    \t18506\t21224.9\n",
            "21 \t83    \t18142\t21096.5\n",
            "22 \t74    \t18424\t20784.6\n",
            "23 \t77    \t18424\t21134  \n",
            "24 \t73    \t18218\t20928.8\n",
            "25 \t84    \t17634\t21115.7\n",
            "26 \t76    \t17634\t20801.2\n",
            "27 \t70    \t17634\t20426.4\n",
            "28 \t80    \t18084\t20481.1\n",
            "29 \t84    \t18294\t20240.4\n",
            "30 \t89    \t17657\t20010.6\n",
            "31 \t74    \t17070\t19984.4\n",
            "32 \t69    \t17070\t19748  \n",
            "33 \t84    \t17070\t19695.2\n",
            "34 \t83    \t17070\t19377.5\n",
            "35 \t80    \t16879\t19415.8\n",
            "36 \t76    \t16881\t19001.6\n",
            "37 \t80    \t16889\t19115  \n",
            "38 \t70    \t16881\t19148.8\n",
            "39 \t72    \t16811\t18613.1\n",
            "40 \t81    \t16811\t18940.8\n",
            "41 \t74    \t16792\t18997.4\n",
            "42 \t79    \t16353\t18500.7\n",
            "43 \t78    \t16353\t18737.2\n",
            "44 \t87    \t16353\t18735.9\n",
            "45 \t73    \t16353\t18356.7\n",
            "46 \t74    \t16040\t18443.4\n",
            "47 \t76    \t15956\t18207.6\n",
            "48 \t62    \t15956\t17607.9\n",
            "49 \t78    \t15782\t18041.7\n",
            "50 \t78    \t15782\t17812.5\n",
            "51 \t77    \t15778\t17503.1\n",
            "52 \t75    \t15763\t17677.1\n",
            "53 \t77    \t15286\t17444.4\n",
            "54 \t78    \t15568\t17900.4\n",
            "55 \t81    \t15049\t17424  \n",
            "56 \t66    \t15199\t17559.8\n",
            "57 \t84    \t15233\t17637.3\n",
            "58 \t68    \t14721\t17240.9\n",
            "59 \t86    \t15010\t17393.9\n",
            "60 \t68    \t14882\t17284.4\n",
            "61 \t77    \t14774\t16658.4\n",
            "62 \t81    \t15043\t17360.6\n",
            "63 \t79    \t14846\t17182  \n",
            "64 \t69    \t14664\t16948.5\n",
            "65 \t70    \t14664\t16822  \n",
            "66 \t81    \t14452\t17138.1\n",
            "67 \t76    \t14452\t16274.5\n",
            "68 \t83    \t14452\t16638.9\n",
            "69 \t68    \t14345\t16291.1\n",
            "70 \t72    \t14120\t16542.5\n",
            "71 \t78    \t13853\t16764.6\n",
            "72 \t86    \t13968\t16123.5\n",
            "73 \t81    \t14099\t16484.8\n",
            "74 \t81    \t14077\t16638.7\n",
            "75 \t82    \t14118\t16751.1\n",
            "76 \t76    \t13942\t16778.6\n",
            "77 \t76    \t13942\t16131.2\n",
            "78 \t80    \t13942\t16857.1\n",
            "79 \t78    \t13938\t16353.9\n",
            "80 \t84    \t13777\t16436.7\n",
            "81 \t88    \t13777\t16072.6\n",
            "82 \t72    \t13812\t16228.9\n",
            "83 \t76    \t13812\t16101.4\n",
            "84 \t77    \t13812\t15777.8\n",
            "85 \t69    \t13312\t16296.8\n",
            "86 \t79    \t13801\t16187.1\n",
            "87 \t75    \t13296\t16215.5\n",
            "88 \t83    \t12751\t15911.4\n",
            "89 \t66    \t13296\t15642.9\n",
            "90 \t78    \t13236\t16116.8\n",
            "91 \t74    \t13092\t15595.6\n",
            "92 \t75    \t13236\t15366.9\n",
            "93 \t87    \t13236\t15503.3\n",
            "94 \t80    \t12966\t15759.1\n",
            "95 \t70    \t12966\t15492.3\n",
            "96 \t79    \t12966\t15270.3\n",
            "97 \t77    \t13117\t14875.6\n",
            "98 \t72    \t12854\t15634.2\n",
            "99 \t67    \t12712\t15148.1\n",
            "100\t76    \t12854\t15082.4\n",
            "101\t72    \t12620\t15005.5\n",
            "102\t82    \t12800\t14836  \n",
            "103\t75    \t12317\t14562.4\n",
            "104\t82    \t12260\t14526.4\n",
            "105\t69    \t12260\t14854.7\n",
            "106\t67    \t12148\t14363.5\n",
            "107\t82    \t12159\t14978.4\n",
            "108\t85    \t12107\t15083.6\n",
            "109\t79    \t12107\t14835.9\n",
            "110\t66    \t12035\t13772.5\n",
            "111\t71    \t11680\t14168.7\n",
            "112\t78    \t11680\t15043.2\n",
            "113\t73    \t11680\t14313.6\n",
            "114\t70    \t11680\t14069.9\n",
            "115\t73    \t11680\t13649.7\n",
            "116\t79    \t11680\t14048.6\n",
            "117\t64    \t11680\t13909.4\n",
            "118\t77    \t11680\t14616.8\n",
            "119\t84    \t11680\t14245.2\n",
            "120\t83    \t11680\t14752.2\n",
            "121\t83    \t11509\t14110  \n",
            "122\t76    \t11509\t13665.1\n",
            "123\t84    \t11569\t13451  \n",
            "124\t81    \t11223\t13780.2\n",
            "125\t79    \t11351\t13754.8\n",
            "126\t79    \t11351\t13431  \n",
            "127\t76    \t11570\t13239.2\n",
            "128\t80    \t11542\t13945.4\n",
            "129\t85    \t11363\t14008.5\n",
            "130\t67    \t11363\t13282.3\n",
            "131\t72    \t11200\t13179.7\n",
            "132\t75    \t11200\t13937.6\n",
            "133\t78    \t11200\t13284.1\n",
            "134\t73    \t11200\t13848.9\n",
            "135\t72    \t11200\t13642.4\n",
            "136\t69    \t11200\t13796.9\n",
            "137\t81    \t11218\t13676.9\n",
            "138\t68    \t11218\t13604.6\n",
            "139\t72    \t11218\t13457  \n",
            "140\t79    \t11012\t13172  \n",
            "141\t73    \t11012\t12759.8\n",
            "142\t73    \t11012\t12936.4\n",
            "143\t71    \t11012\t13276.6\n",
            "144\t64    \t11012\t12692  \n",
            "145\t73    \t11012\t13008.3\n",
            "146\t82    \t11012\t13574.2\n",
            "147\t72    \t11012\t12608  \n",
            "148\t84    \t11012\t13137  \n",
            "149\t79    \t11012\t13194.2\n",
            "150\t82    \t11012\t12711.9\n",
            "151\t77    \t11012\t13215.7\n",
            "152\t69    \t11012\t13147.8\n",
            "153\t77    \t11012\t13126.5\n",
            "154\t72    \t11012\t13100.5\n",
            "155\t74    \t11012\t12808.8\n",
            "156\t76    \t11012\t12477.5\n",
            "157\t82    \t11012\t12646  \n",
            "158\t83    \t11012\t12889.4\n",
            "159\t76    \t11012\t13004.3\n",
            "160\t78    \t11012\t12778.4\n",
            "161\t80    \t11012\t12470  \n",
            "162\t78    \t11012\t12940  \n",
            "163\t84    \t11012\t13221.2\n",
            "164\t76    \t11012\t13113.1\n",
            "165\t82    \t11012\t13474.8\n",
            "166\t84    \t11012\t13260.8\n",
            "167\t77    \t11012\t12229.8\n",
            "168\t79    \t11012\t12203.5\n",
            "169\t75    \t11012\t12312.2\n",
            "170\t74    \t11012\t13188.3\n",
            "171\t70    \t11012\t12146.7\n",
            "172\t70    \t11012\t12460.8\n",
            "173\t78    \t11012\t13197.4\n",
            "174\t70    \t11012\t12872.2\n",
            "175\t79    \t11012\t12746.8\n",
            "176\t78    \t11012\t13664.4\n",
            "177\t67    \t11012\t13158.5\n",
            "178\t72    \t11012\t12834.2\n",
            "179\t71    \t11012\t12709  \n",
            "180\t78    \t11012\t13247.3\n",
            "181\t76    \t11012\t12728.6\n",
            "182\t82    \t11012\t12156.3\n",
            "183\t73    \t11012\t12332.7\n",
            "184\t72    \t11012\t12594.9\n",
            "185\t82    \t11012\t12529.2\n",
            "186\t80    \t11012\t13721.8\n",
            "187\t68    \t11012\t12453  \n",
            "188\t83    \t11012\t12575.6\n",
            "189\t69    \t11012\t13066.5\n",
            "190\t74    \t11012\t13527.4\n",
            "191\t75    \t11012\t12554.8\n",
            "192\t76    \t11012\t12647  \n",
            "193\t74    \t11012\t13061.4\n",
            "194\t83    \t11012\t13756.9\n",
            "195\t75    \t11012\t12691.6\n",
            "196\t85    \t11012\t13394  \n",
            "197\t74    \t11012\t13232.1\n",
            "198\t65    \t11012\t13424.4\n",
            "199\t77    \t11012\t13013.8\n",
            "200\t73    \t11012\t12827.3\n",
            "\n",
            "Melhor rota encontrada: [3, 45, 46, 43, 41, 47, 44, 34, 32, 26, 27, 28, 25, 29, 50, 51, 48, 52, 49, 22, 42, 6, 8, 5, 9, 7, 14, 31, 33, 30, 17, 23, 11, 10, 12, 13, 15, 40, 35, 38, 36, 39, 37, 21, 24, 18, 19, 1, 2, 16, 20, 4, 0]\n",
            "Distância total: 11012\n"
          ]
        }
      ]
    }
  ]
}